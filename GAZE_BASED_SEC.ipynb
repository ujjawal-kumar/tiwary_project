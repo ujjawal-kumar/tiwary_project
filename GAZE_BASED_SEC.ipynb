{
 "cells": [
  {
   "cell_type": "code",
   "execution_count": 1,
   "metadata": {},
   "outputs": [],
   "source": [
    "import glob"
   ]
  },
  {
   "cell_type": "code",
   "execution_count": 2,
   "metadata": {},
   "outputs": [],
   "source": [
    "img_path=glob.glob('/home/ujjawal/Downloads/COLLETTION OF ALL/**/*')"
   ]
  },
  {
   "cell_type": "code",
   "execution_count": 3,
   "metadata": {},
   "outputs": [],
   "source": [
    "img_path1=sorted(img_path)"
   ]
  },
  {
   "cell_type": "code",
   "execution_count": 5,
   "metadata": {},
   "outputs": [
    {
     "data": {
      "text/plain": [
       "2700"
      ]
     },
     "execution_count": 5,
     "metadata": {},
     "output_type": "execute_result"
    }
   ],
   "source": [
    "len(img_path1)"
   ]
  },
  {
   "cell_type": "code",
   "execution_count": 7,
   "metadata": {},
   "outputs": [],
   "source": [
    "from PIL import Image\n",
    "import numpy as np"
   ]
  },
  {
   "cell_type": "code",
   "execution_count": 8,
   "metadata": {},
   "outputs": [],
   "source": [
    "img_list=[]\n",
    "for i in range(len(img_path1)):\n",
    "    img=Image.open(img_path1[i])\n",
    "    img1=img.resize((64,64))\n",
    "    arr=np.asarray(img1)\n",
    "    img_list.append(arr)\n",
    "    "
   ]
  },
  {
   "cell_type": "code",
   "execution_count": 9,
   "metadata": {},
   "outputs": [],
   "source": [
    "X=np.asarray(img_list)"
   ]
  },
  {
   "cell_type": "code",
   "execution_count": 10,
   "metadata": {},
   "outputs": [
    {
     "data": {
      "text/plain": [
       "(2700, 64, 64)"
      ]
     },
     "execution_count": 10,
     "metadata": {},
     "output_type": "execute_result"
    }
   ],
   "source": [
    "X.shape"
   ]
  },
  {
   "cell_type": "code",
   "execution_count": 21,
   "metadata": {},
   "outputs": [],
   "source": [
    "Y=np.zeros((2700,1))"
   ]
  },
  {
   "cell_type": "code",
   "execution_count": 22,
   "metadata": {},
   "outputs": [
    {
     "data": {
      "text/plain": [
       "array([[0.],\n",
       "       [0.],\n",
       "       [0.],\n",
       "       ...,\n",
       "       [0.],\n",
       "       [0.],\n",
       "       [0.]])"
      ]
     },
     "execution_count": 22,
     "metadata": {},
     "output_type": "execute_result"
    }
   ],
   "source": [
    "Y"
   ]
  },
  {
   "cell_type": "code",
   "execution_count": 23,
   "metadata": {},
   "outputs": [],
   "source": [
    "Y[:300]=0\n",
    "Y[300:600]=1\n",
    "Y[600:900]=2\n",
    "Y[900:1200]=3\n",
    "Y[1200:1500]=4\n",
    "Y[1500:1800]=5\n",
    "Y[1800:2100]=6\n",
    "Y[2100:2400]=7\n",
    "Y[2400:]=8"
   ]
  },
  {
   "cell_type": "code",
   "execution_count": 24,
   "metadata": {},
   "outputs": [],
   "source": [
    "from keras.utils import np_utils"
   ]
  },
  {
   "cell_type": "code",
   "execution_count": 25,
   "metadata": {},
   "outputs": [],
   "source": [
    "# convert class labels to on-hot encoding\n",
    "num_classes=9\n",
    "Y = np_utils.to_categorical(Y, num_classes)"
   ]
  },
  {
   "cell_type": "code",
   "execution_count": 29,
   "metadata": {},
   "outputs": [
    {
     "data": {
      "text/plain": [
       "(2700, 9)"
      ]
     },
     "execution_count": 29,
     "metadata": {},
     "output_type": "execute_result"
    }
   ],
   "source": [
    "Y.shape"
   ]
  },
  {
   "cell_type": "code",
   "execution_count": 30,
   "metadata": {},
   "outputs": [
    {
     "name": "stderr",
     "output_type": "stream",
     "text": [
      "/home/ujjawal/project/env1/lib/python3.6/site-packages/sklearn/cross_validation.py:41: DeprecationWarning: This module was deprecated in version 0.18 in favor of the model_selection module into which all the refactored classes and functions are moved. Also note that the interface of the new CV iterators are different from that of this module. This module will be removed in 0.20.\n",
      "  \"This module will be removed in 0.20.\", DeprecationWarning)\n"
     ]
    }
   ],
   "source": [
    "from sklearn.utils import shuffle\n",
    "from sklearn.cross_validation import train_test_split"
   ]
  },
  {
   "cell_type": "code",
   "execution_count": 38,
   "metadata": {},
   "outputs": [],
   "source": [
    "#Shuffle the dataset\n",
    "x,y = shuffle(X,Y, random_state=2)\n",
    "# Split the dataset\n",
    "X_train, X_test, y_train, y_test = train_test_split(x, y, test_size=0.2, random_state=2)\n"
   ]
  },
  {
   "cell_type": "code",
   "execution_count": 39,
   "metadata": {},
   "outputs": [],
   "source": [
    "X_train=X_train.reshape((2160,64,64,1))\n",
    "X_test=X_test.reshape((540,64,64,1))"
   ]
  },
  {
   "cell_type": "code",
   "execution_count": 40,
   "metadata": {},
   "outputs": [
    {
     "name": "stdout",
     "output_type": "stream",
     "text": [
      "(2160, 64, 64, 1)\n",
      "(540, 64, 64, 1)\n",
      "(2160, 9)\n",
      "(540, 9)\n"
     ]
    }
   ],
   "source": [
    "print(X_train.shape)\n",
    "print(X_test.shape)\n",
    "print(y_train.shape)\n",
    "print(y_test.shape)"
   ]
  },
  {
   "cell_type": "code",
   "execution_count": 43,
   "metadata": {},
   "outputs": [],
   "source": [
    "from keras.models import Sequential\n",
    "from keras.layers.core import Dense, Dropout, Activation, Flatten\n",
    "from keras.layers.convolutional import Conv2D, MaxPooling2D\n",
    "from keras.optimizers import SGD,RMSprop,adam\n"
   ]
  },
  {
   "cell_type": "code",
   "execution_count": 119,
   "metadata": {},
   "outputs": [],
   "source": [
    "# Defining the model\n",
    "input_shape=(64,64,1)\n",
    "model = Sequential()\n",
    "model.add(Conv2D(32, kernel_size=(3, 3),\n",
    "                 activation='relu',\n",
    "                 input_shape=input_shape))\n",
    "model.add(Conv2D(64, (3, 3), activation='relu'))\n",
    "model.add(MaxPooling2D(pool_size=(2, 2)))\n",
    "model.add(Dropout(0.25))\n",
    "model.add(Flatten())\n",
    "model.add(Dense(128, activation='relu'))\n",
    "model.add(Dropout(0.5))\n",
    "model.add(Dense(num_classes))\n",
    "model.add(Activation('softmax'))\n",
    "\n"
   ]
  },
  {
   "cell_type": "code",
   "execution_count": 120,
   "metadata": {},
   "outputs": [
    {
     "name": "stdout",
     "output_type": "stream",
     "text": [
      "_________________________________________________________________\n",
      "Layer (type)                 Output Shape              Param #   \n",
      "=================================================================\n",
      "conv2d_37 (Conv2D)           (None, 62, 62, 32)        320       \n",
      "_________________________________________________________________\n",
      "conv2d_38 (Conv2D)           (None, 60, 60, 64)        18496     \n",
      "_________________________________________________________________\n",
      "max_pooling2d_17 (MaxPooling (None, 30, 30, 64)        0         \n",
      "_________________________________________________________________\n",
      "dropout_14 (Dropout)         (None, 30, 30, 64)        0         \n",
      "_________________________________________________________________\n",
      "flatten_10 (Flatten)         (None, 57600)             0         \n",
      "_________________________________________________________________\n",
      "dense_18 (Dense)             (None, 128)               7372928   \n",
      "_________________________________________________________________\n",
      "dropout_15 (Dropout)         (None, 128)               0         \n",
      "_________________________________________________________________\n",
      "dense_19 (Dense)             (None, 9)                 1161      \n",
      "_________________________________________________________________\n",
      "activation_47 (Activation)   (None, 9)                 0         \n",
      "=================================================================\n",
      "Total params: 7,392,905\n",
      "Trainable params: 7,392,905\n",
      "Non-trainable params: 0\n",
      "_________________________________________________________________\n"
     ]
    }
   ],
   "source": [
    "model.summary()"
   ]
  },
  {
   "cell_type": "code",
   "execution_count": 122,
   "metadata": {},
   "outputs": [],
   "source": [
    "import keras\n",
    "#model.compile(loss='categorical_crossentropy', optimizer='rmsprop',metrics=[\"accuracy\"])\n",
    "model.compile(loss=keras.losses.categorical_crossentropy,\n",
    "              optimizer=keras.optimizers.Adadelta(),\n",
    "              metrics=['accuracy'])\n",
    "\n",
    "#sgd = SGD(lr=0.01, decay=1e-6, momentum=0.9, nesterov=True)\n",
    "#model.compile(loss='categorical_crossentropy', optimizer=sgd,metrics=[\"accuracy\"])"
   ]
  },
  {
   "cell_type": "code",
   "execution_count": 123,
   "metadata": {},
   "outputs": [
    {
     "name": "stderr",
     "output_type": "stream",
     "text": [
      "/home/ujjawal/project/env1/lib/python3.6/site-packages/keras/models.py:939: UserWarning: The `nb_epoch` argument in `fit` has been renamed `epochs`.\n",
      "  warnings.warn('The `nb_epoch` argument in `fit` '\n"
     ]
    },
    {
     "name": "stdout",
     "output_type": "stream",
     "text": [
      "Train on 2160 samples, validate on 540 samples\n",
      "Epoch 1/100\n",
      " - 1s - loss: 13.9438 - acc: 0.1231 - val_loss: 14.2675 - val_acc: 0.1148\n",
      "Epoch 2/100\n",
      " - 0s - loss: 14.2396 - acc: 0.1139 - val_loss: 14.2675 - val_acc: 0.1148\n",
      "Epoch 3/100\n",
      " - 1s - loss: 14.2499 - acc: 0.1148 - val_loss: 14.2675 - val_acc: 0.1148\n",
      "Epoch 4/100\n",
      " - 0s - loss: 14.3214 - acc: 0.1102 - val_loss: 14.2675 - val_acc: 0.1148\n",
      "Epoch 5/100\n",
      " - 0s - loss: 14.3603 - acc: 0.1083 - val_loss: 14.2675 - val_acc: 0.1148\n",
      "Epoch 6/100\n",
      " - 0s - loss: 14.2972 - acc: 0.1130 - val_loss: 14.2675 - val_acc: 0.1148\n",
      "Epoch 7/100\n",
      " - 0s - loss: 14.3497 - acc: 0.1093 - val_loss: 14.2675 - val_acc: 0.1148\n",
      "Epoch 8/100\n",
      " - 0s - loss: 14.2716 - acc: 0.1139 - val_loss: 14.2675 - val_acc: 0.1148\n",
      "Epoch 9/100\n",
      " - 0s - loss: 14.3365 - acc: 0.1097 - val_loss: 14.2675 - val_acc: 0.1148\n",
      "Epoch 10/100\n",
      " - 0s - loss: 14.2993 - acc: 0.1125 - val_loss: 14.2675 - val_acc: 0.1148\n",
      "Epoch 11/100\n",
      " - 0s - loss: 14.3355 - acc: 0.1093 - val_loss: 13.8826 - val_acc: 0.1241\n",
      "Epoch 12/100\n",
      " - 0s - loss: 14.0666 - acc: 0.1259 - val_loss: 14.2675 - val_acc: 0.1148\n",
      "Epoch 13/100\n",
      " - 0s - loss: 14.2737 - acc: 0.1134 - val_loss: 14.2675 - val_acc: 0.1148\n",
      "Epoch 14/100\n",
      " - 0s - loss: 14.2349 - acc: 0.1148 - val_loss: 13.9658 - val_acc: 0.1241\n",
      "Epoch 15/100\n",
      " - 0s - loss: 14.2130 - acc: 0.1162 - val_loss: 14.2675 - val_acc: 0.1148\n",
      "Epoch 16/100\n",
      " - 0s - loss: 14.0701 - acc: 0.1259 - val_loss: 13.5881 - val_acc: 0.1370\n",
      "Epoch 17/100\n",
      " - 0s - loss: 14.1262 - acc: 0.1199 - val_loss: 14.2675 - val_acc: 0.1148\n",
      "Epoch 18/100\n",
      " - 0s - loss: 14.2473 - acc: 0.1157 - val_loss: 14.2675 - val_acc: 0.1148\n",
      "Epoch 19/100\n",
      " - 0s - loss: 14.2145 - acc: 0.1171 - val_loss: 14.2675 - val_acc: 0.1148\n",
      "Epoch 20/100\n",
      " - 0s - loss: 14.0510 - acc: 0.1250 - val_loss: 14.2675 - val_acc: 0.1148\n",
      "Epoch 21/100\n",
      " - 0s - loss: 14.2861 - acc: 0.1116 - val_loss: 14.2675 - val_acc: 0.1148\n",
      "Epoch 22/100\n",
      " - 1s - loss: 14.3054 - acc: 0.1111 - val_loss: 14.2675 - val_acc: 0.1148\n",
      "Epoch 23/100\n",
      " - 0s - loss: 14.3326 - acc: 0.1088 - val_loss: 14.2675 - val_acc: 0.1148\n",
      "Epoch 24/100\n",
      " - 0s - loss: 14.0753 - acc: 0.1236 - val_loss: 14.2675 - val_acc: 0.1148\n",
      "Epoch 25/100\n",
      " - 1s - loss: 13.9312 - acc: 0.1319 - val_loss: 14.0884 - val_acc: 0.1259\n",
      "Epoch 26/100\n",
      " - 0s - loss: 14.1162 - acc: 0.1208 - val_loss: 14.2675 - val_acc: 0.1148\n",
      "Epoch 27/100\n",
      " - 0s - loss: 13.9269 - acc: 0.1306 - val_loss: 14.2675 - val_acc: 0.1148\n",
      "Epoch 28/100\n",
      " - 0s - loss: 14.0781 - acc: 0.1204 - val_loss: 13.3012 - val_acc: 0.1648\n",
      "Epoch 29/100\n",
      " - 0s - loss: 13.8218 - acc: 0.1319 - val_loss: 12.8003 - val_acc: 0.1833\n",
      "Epoch 30/100\n",
      " - 0s - loss: 11.5946 - acc: 0.1972 - val_loss: 3.9848 - val_acc: 0.4315\n",
      "Epoch 31/100\n",
      " - 1s - loss: 2.5148 - acc: 0.4412 - val_loss: 0.9627 - val_acc: 0.6630\n",
      "Epoch 32/100\n",
      " - 0s - loss: 1.1199 - acc: 0.6227 - val_loss: 0.8175 - val_acc: 0.7074\n",
      "Epoch 33/100\n",
      " - 0s - loss: 0.8453 - acc: 0.7144 - val_loss: 0.5793 - val_acc: 0.8019\n",
      "Epoch 34/100\n",
      " - 0s - loss: 0.5950 - acc: 0.7935 - val_loss: 0.5089 - val_acc: 0.8315\n",
      "Epoch 35/100\n",
      " - 0s - loss: 0.5013 - acc: 0.8319 - val_loss: 0.4519 - val_acc: 0.8444\n",
      "Epoch 36/100\n",
      " - 1s - loss: 0.4227 - acc: 0.8537 - val_loss: 0.4102 - val_acc: 0.8593\n",
      "Epoch 37/100\n",
      " - 0s - loss: 0.3737 - acc: 0.8676 - val_loss: 0.4004 - val_acc: 0.8574\n",
      "Epoch 38/100\n",
      " - 0s - loss: 0.3155 - acc: 0.8907 - val_loss: 0.3643 - val_acc: 0.8778\n",
      "Epoch 39/100\n",
      " - 0s - loss: 0.2639 - acc: 0.9134 - val_loss: 0.4096 - val_acc: 0.8722\n",
      "Epoch 40/100\n",
      " - 0s - loss: 0.2579 - acc: 0.9144 - val_loss: 0.3540 - val_acc: 0.8852\n",
      "Epoch 41/100\n",
      " - 0s - loss: 0.1989 - acc: 0.9352 - val_loss: 0.3440 - val_acc: 0.8926\n",
      "Epoch 42/100\n",
      " - 0s - loss: 0.1887 - acc: 0.9301 - val_loss: 0.3391 - val_acc: 0.8907\n",
      "Epoch 43/100\n",
      " - 0s - loss: 0.1609 - acc: 0.9528 - val_loss: 0.2880 - val_acc: 0.9130\n",
      "Epoch 44/100\n",
      " - 0s - loss: 0.1560 - acc: 0.9440 - val_loss: 0.2920 - val_acc: 0.8981\n",
      "Epoch 45/100\n",
      " - 0s - loss: 0.1402 - acc: 0.9574 - val_loss: 0.3410 - val_acc: 0.9148\n",
      "Epoch 46/100\n",
      " - 0s - loss: 0.1175 - acc: 0.9611 - val_loss: 0.2862 - val_acc: 0.9259\n",
      "Epoch 47/100\n",
      " - 0s - loss: 0.1110 - acc: 0.9634 - val_loss: 0.3380 - val_acc: 0.9037\n",
      "Epoch 48/100\n",
      " - 1s - loss: 0.1092 - acc: 0.9644 - val_loss: 0.2961 - val_acc: 0.9167\n",
      "Epoch 49/100\n",
      " - 1s - loss: 0.1048 - acc: 0.9653 - val_loss: 0.3101 - val_acc: 0.9093\n",
      "Epoch 50/100\n",
      " - 0s - loss: 0.0988 - acc: 0.9671 - val_loss: 0.3408 - val_acc: 0.9019\n",
      "Epoch 51/100\n",
      " - 0s - loss: 0.1070 - acc: 0.9667 - val_loss: 0.2827 - val_acc: 0.9278\n",
      "Epoch 52/100\n",
      " - 0s - loss: 0.0708 - acc: 0.9801 - val_loss: 0.3036 - val_acc: 0.9222\n",
      "Epoch 53/100\n",
      " - 0s - loss: 0.0691 - acc: 0.9778 - val_loss: 0.3201 - val_acc: 0.9130\n",
      "Epoch 54/100\n",
      " - 1s - loss: 0.0677 - acc: 0.9773 - val_loss: 0.2819 - val_acc: 0.9204\n",
      "Epoch 55/100\n",
      " - 0s - loss: 0.0532 - acc: 0.9847 - val_loss: 0.2712 - val_acc: 0.9259\n",
      "Epoch 56/100\n",
      " - 1s - loss: 0.0652 - acc: 0.9773 - val_loss: 0.2795 - val_acc: 0.9222\n",
      "Epoch 57/100\n",
      " - 0s - loss: 0.0564 - acc: 0.9815 - val_loss: 0.3037 - val_acc: 0.9074\n",
      "Epoch 58/100\n",
      " - 1s - loss: 0.0543 - acc: 0.9810 - val_loss: 0.2850 - val_acc: 0.9222\n",
      "Epoch 59/100\n",
      " - 0s - loss: 0.0584 - acc: 0.9829 - val_loss: 0.2739 - val_acc: 0.9259\n",
      "Epoch 60/100\n",
      " - 0s - loss: 0.0565 - acc: 0.9810 - val_loss: 0.3269 - val_acc: 0.9204\n",
      "Epoch 61/100\n",
      " - 1s - loss: 0.0485 - acc: 0.9870 - val_loss: 0.3426 - val_acc: 0.9148\n",
      "Epoch 62/100\n",
      " - 0s - loss: 0.0511 - acc: 0.9852 - val_loss: 0.3136 - val_acc: 0.9278\n",
      "Epoch 63/100\n",
      " - 0s - loss: 0.0556 - acc: 0.9787 - val_loss: 0.3257 - val_acc: 0.9185\n",
      "Epoch 64/100\n",
      " - 0s - loss: 0.0448 - acc: 0.9880 - val_loss: 0.3428 - val_acc: 0.9148\n",
      "Epoch 65/100\n",
      " - 1s - loss: 0.0410 - acc: 0.9889 - val_loss: 0.2898 - val_acc: 0.9259\n",
      "Epoch 66/100\n",
      " - 1s - loss: 0.0341 - acc: 0.9903 - val_loss: 0.3147 - val_acc: 0.9222\n",
      "Epoch 67/100\n",
      " - 0s - loss: 0.0433 - acc: 0.9866 - val_loss: 0.3025 - val_acc: 0.9370\n",
      "Epoch 68/100\n",
      " - 1s - loss: 0.0418 - acc: 0.9889 - val_loss: 0.2832 - val_acc: 0.9241\n",
      "Epoch 69/100\n",
      " - 1s - loss: 0.0328 - acc: 0.9921 - val_loss: 0.3083 - val_acc: 0.9259\n",
      "Epoch 70/100\n",
      " - 1s - loss: 0.0316 - acc: 0.9912 - val_loss: 0.3046 - val_acc: 0.9167\n",
      "Epoch 71/100\n",
      " - 1s - loss: 0.0327 - acc: 0.9907 - val_loss: 0.3074 - val_acc: 0.9148\n",
      "Epoch 72/100\n",
      " - 1s - loss: 0.0296 - acc: 0.9931 - val_loss: 0.3242 - val_acc: 0.9148\n",
      "Epoch 73/100\n",
      " - 1s - loss: 0.0282 - acc: 0.9917 - val_loss: 0.3521 - val_acc: 0.9185\n",
      "Epoch 74/100\n",
      " - 1s - loss: 0.0227 - acc: 0.9949 - val_loss: 0.3430 - val_acc: 0.9185\n",
      "Epoch 75/100\n",
      " - 0s - loss: 0.0379 - acc: 0.9870 - val_loss: 0.3009 - val_acc: 0.9241\n",
      "Epoch 76/100\n",
      " - 0s - loss: 0.0220 - acc: 0.9940 - val_loss: 0.3025 - val_acc: 0.9315\n",
      "Epoch 77/100\n",
      " - 1s - loss: 0.0276 - acc: 0.9926 - val_loss: 0.3024 - val_acc: 0.9222\n",
      "Epoch 78/100\n",
      " - 1s - loss: 0.0304 - acc: 0.9898 - val_loss: 0.3069 - val_acc: 0.9241\n",
      "Epoch 79/100\n",
      " - 0s - loss: 0.0337 - acc: 0.9907 - val_loss: 0.3478 - val_acc: 0.9259\n",
      "Epoch 80/100\n",
      " - 0s - loss: 0.0243 - acc: 0.9944 - val_loss: 0.3648 - val_acc: 0.9278\n",
      "Epoch 81/100\n",
      " - 0s - loss: 0.0199 - acc: 0.9931 - val_loss: 0.3924 - val_acc: 0.9241\n",
      "Epoch 82/100\n",
      " - 0s - loss: 0.0280 - acc: 0.9903 - val_loss: 0.3555 - val_acc: 0.9259\n",
      "Epoch 83/100\n",
      " - 0s - loss: 0.0220 - acc: 0.9921 - val_loss: 0.3881 - val_acc: 0.9222\n",
      "Epoch 84/100\n",
      " - 1s - loss: 0.0162 - acc: 0.9949 - val_loss: 0.3477 - val_acc: 0.9333\n",
      "Epoch 85/100\n",
      " - 0s - loss: 0.0172 - acc: 0.9949 - val_loss: 0.3704 - val_acc: 0.9222\n",
      "Epoch 86/100\n",
      " - 0s - loss: 0.0198 - acc: 0.9931 - val_loss: 0.3696 - val_acc: 0.9204\n",
      "Epoch 87/100\n",
      " - 0s - loss: 0.0182 - acc: 0.9944 - val_loss: 0.3928 - val_acc: 0.9204\n",
      "Epoch 88/100\n",
      " - 1s - loss: 0.0223 - acc: 0.9917 - val_loss: 0.3830 - val_acc: 0.9241\n",
      "Epoch 89/100\n",
      " - 1s - loss: 0.0187 - acc: 0.9949 - val_loss: 0.3851 - val_acc: 0.9259\n",
      "Epoch 90/100\n",
      " - 0s - loss: 0.0204 - acc: 0.9931 - val_loss: 0.4493 - val_acc: 0.9167\n",
      "Epoch 91/100\n",
      " - 1s - loss: 0.0288 - acc: 0.9884 - val_loss: 0.3810 - val_acc: 0.9241\n",
      "Epoch 92/100\n",
      " - 0s - loss: 0.0282 - acc: 0.9921 - val_loss: 0.3563 - val_acc: 0.9296\n",
      "Epoch 93/100\n",
      " - 1s - loss: 0.0182 - acc: 0.9944 - val_loss: 0.3961 - val_acc: 0.9278\n",
      "Epoch 94/100\n",
      " - 1s - loss: 0.0173 - acc: 0.9944 - val_loss: 0.3567 - val_acc: 0.9222\n",
      "Epoch 95/100\n",
      " - 1s - loss: 0.0130 - acc: 0.9958 - val_loss: 0.3903 - val_acc: 0.9241\n",
      "Epoch 96/100\n",
      " - 1s - loss: 0.0120 - acc: 0.9963 - val_loss: 0.3504 - val_acc: 0.9222\n"
     ]
    },
    {
     "name": "stdout",
     "output_type": "stream",
     "text": [
      "Epoch 97/100\n",
      " - 1s - loss: 0.0187 - acc: 0.9931 - val_loss: 0.3639 - val_acc: 0.9167\n",
      "Epoch 98/100\n",
      " - 1s - loss: 0.0141 - acc: 0.9968 - val_loss: 0.3811 - val_acc: 0.9296\n",
      "Epoch 99/100\n",
      " - 1s - loss: 0.0136 - acc: 0.9963 - val_loss: 0.3828 - val_acc: 0.9167\n",
      "Epoch 100/100\n",
      " - 0s - loss: 0.0105 - acc: 0.9972 - val_loss: 0.3611 - val_acc: 0.9315\n"
     ]
    }
   ],
   "source": [
    "num_epoch=100\n",
    "# Training\n",
    "hist = model.fit(X_train, y_train, batch_size=512, nb_epoch=num_epoch, verbose=2, validation_data=(X_test, y_test))"
   ]
  },
  {
   "cell_type": "code",
   "execution_count": 124,
   "metadata": {},
   "outputs": [
    {
     "data": {
      "image/png": "[encoded data removed]",
      "text/plain": [
       "<matplotlib.figure.Figure at 0x7f5f88d20d68>"
      ]
     },
     "metadata": {},
     "output_type": "display_data"
    },
    {
     "data": {
      "image/png": "[encoded data removed]",
      "text/plain": [
       "<matplotlib.figure.Figure at 0x7f5f80f6acf8>"
      ]
     },
     "metadata": {},
     "output_type": "display_data"
    }
   ],
   "source": [
    "import matplotlib.pyplot as plt\n",
    "# visualizing losses and accuracy\n",
    "train_loss=hist.history['loss']\n",
    "val_loss=hist.history['val_loss']\n",
    "train_acc=hist.history['acc']\n",
    "val_acc=hist.history['val_acc']\n",
    "xc=range(num_epoch)\n",
    "\n",
    "plt.figure(1,figsize=(7,5))\n",
    "plt.plot(xc,train_loss)\n",
    "plt.plot(xc,val_loss)\n",
    "plt.xlabel('num of Epochs')\n",
    "plt.ylabel('loss')\n",
    "plt.title('train_loss vs val_loss')\n",
    "plt.grid(True)\n",
    "plt.legend(['train','val'])\n",
    "#print plt.style.available # use bmh, classic,ggplot for big pictures\n",
    "plt.style.use(['classic'])\n",
    "\n",
    "\n",
    "plt.figure(2,figsize=(7,5))\n",
    "plt.plot(xc,train_acc)\n",
    "plt.plot(xc,val_acc)\n",
    "plt.xlabel('num of Epochs')\n",
    "plt.ylabel('accuracy')\n",
    "plt.title('train_acc vs val_acc')\n",
    "plt.grid(True)\n",
    "plt.legend(['train','val'],loc=4)\n",
    "#print plt.style.available # use bmh, classic,ggplot for big pictures\n",
    "plt.style.use(['classic'])\n",
    "plt.show()"
   ]
  },
  {
   "cell_type": "code",
   "execution_count": 125,
   "metadata": {},
   "outputs": [
    {
     "name": "stdout",
     "output_type": "stream",
     "text": [
      "540/540 [==============================] - 0s 130us/step\n",
      "Test Loss: 0.3611002641695517\n",
      "Test accuracy: 0.9314814823645132\n"
     ]
    }
   ],
   "source": [
    "# Evaluating the model\n",
    "\n",
    "score = model.evaluate(X_test, y_test,verbose=1)\n",
    "print('Test Loss:', score[0])\n",
    "print('Test accuracy:', score[1])"
   ]
  },
  {
   "cell_type": "code",
   "execution_count": 126,
   "metadata": {},
   "outputs": [
    {
     "name": "stdout",
     "output_type": "stream",
     "text": [
      "(1, 64, 64, 1)\n",
      "[[3.36762812e-10 1.26955895e-08 8.58902016e-09 2.50244530e-11\n",
      "  6.57988997e-10 2.69689315e-09 1.55798291e-10 5.07190805e-07\n",
      "  9.99999523e-01]]\n",
      "[8]\n",
      "[[0. 0. 0. 0. 0. 0. 0. 0. 1.]]\n"
     ]
    }
   ],
   "source": [
    "test_image = X_test[0:1]\n",
    "print (test_image.shape)\n",
    "\n",
    "print(model.predict(test_image))\n",
    "print(model.predict_classes(test_image))\n",
    "print(y_test[0:1])"
   ]
  },
  {
   "cell_type": "code",
   "execution_count": 127,
   "metadata": {},
   "outputs": [
    {
     "name": "stdout",
     "output_type": "stream",
     "text": [
      "Saved model to disk\n"
     ]
    }
   ],
   "source": [
    "model.save_weights(\"model.h5\")\n",
    "print(\"Saved model to disk\")"
   ]
  },
  {
   "cell_type": "code",
   "execution_count": null,
   "metadata": {},
   "outputs": [],
   "source": []
  }
 ],
 "metadata": {
  "kernelspec": {
   "display_name": "Python 3",
   "language": "python",
   "name": "python3"
  },
  "language_info": {
   "codemirror_mode": {
    "name": "ipython",
    "version": 3
   },
   "file_extension": ".py",
   "mimetype": "text/x-python",
   "name": "python",
   "nbconvert_exporter": "python",
   "pygments_lexer": "ipython3",
   "version": "3.6.3"
  }
 },
 "nbformat": 4,
 "nbformat_minor": 2
}
